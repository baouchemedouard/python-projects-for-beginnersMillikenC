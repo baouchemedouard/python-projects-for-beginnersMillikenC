{
 "cells": [
  {
   "cell_type": "markdown",
   "metadata": {
    "collapsed": true
   },
   "source": [
    "# Week 01"
   ]
  },
  {
   "cell_type": "code",
   "execution_count": 1,
   "metadata": {},
   "outputs": [
    {
     "name": "stdout",
     "output_type": "stream",
     "text": [
      "Hello, buddy!\n"
     ]
    }
   ],
   "source": [
    "# this is python\n",
    "\n",
    "print('Hello, buddy!')"
   ]
  },
  {
   "cell_type": "code",
   "execution_count": 11,
   "metadata": {},
   "outputs": [
    {
     "name": "stdout",
     "output_type": "stream",
     "text": [
      "Try to guess the number I am thinking of!\n",
      " You can at any momen exit the program by typping:\"No\" or \"N\".n\n",
      "See you next time!!\n"
     ]
    }
   ],
   "source": [
    "# guessing game\n",
    "from random import randint\n",
    "from IPython.display import clear_output\n",
    "\n",
    "guessed = False\n",
    "number = randint(0, 10)\n",
    "guesses = 0\n",
    "\n",
    "while not guessed:    \n",
    "    ans = input('Try to guess the number I am thinking of!\\n You can at any momen exit the program by typping:\"No\" or \"N\".')\n",
    "    if ans in {\"no\", \"No\", \"n\", \"N\"}:\n",
    "        print('See you next time!!')\n",
    "        break    \n",
    "                \n",
    "    guesses += 1\n",
    "    \n",
    "    clear_output()\n",
    "    \n",
    "    if int(ans) == number:\n",
    "        print('Congrats! You guessed it correctly.')\n",
    "        print('It took you {} guesses!'.format(guesses))\n",
    "        break\n",
    "    elif int(ans) > number:\n",
    "        print('The number is lower than what you guessed.')\n",
    "    elif int(ans) < number:\n",
    "        print('The number is greater than what you guessed.')"
   ]
  },
  {
   "cell_type": "markdown",
   "metadata": {},
   "source": [
    "# End of Week Exercises - Answers"
   ]
  },
  {
   "cell_type": "markdown",
   "metadata": {},
   "source": [
    "<p>\n",
    "2. <b>Writing Markdown:</b> Within the file from exercise 1, create a cell with markdown in it that says \"Challenge 1\". Try several different header sizes. Pick the one you like best.\n",
    "</p>"
   ]
  },
  {
   "cell_type": "markdown",
   "metadata": {},
   "source": [
    "#### Challenge 1"
   ]
  }
 ],
 "metadata": {
  "kernelspec": {
   "display_name": "Python 3",
   "language": "python",
   "name": "python3"
  },
  "language_info": {
   "codemirror_mode": {
    "name": "ipython",
    "version": 3
   },
   "file_extension": ".py",
   "mimetype": "text/x-python",
   "name": "python",
   "nbconvert_exporter": "python",
   "pygments_lexer": "ipython3",
   "version": "3.8.3"
  },
  "toc": {
   "base_numbering": 1,
   "nav_menu": {},
   "number_sections": true,
   "sideBar": true,
   "skip_h1_title": false,
   "title_cell": "Table of Contents",
   "title_sidebar": "Contents",
   "toc_cell": false,
   "toc_position": {},
   "toc_section_display": true,
   "toc_window_display": false
  },
  "varInspector": {
   "cols": {
    "lenName": 16,
    "lenType": 16,
    "lenVar": 40
   },
   "kernels_config": {
    "python": {
     "delete_cmd_postfix": "",
     "delete_cmd_prefix": "del ",
     "library": "var_list.py",
     "varRefreshCmd": "print(var_dic_list())"
    },
    "r": {
     "delete_cmd_postfix": ") ",
     "delete_cmd_prefix": "rm(",
     "library": "var_list.r",
     "varRefreshCmd": "cat(var_dic_list()) "
    }
   },
   "types_to_exclude": [
    "module",
    "function",
    "builtin_function_or_method",
    "instance",
    "_Feature"
   ],
   "window_display": false
  }
 },
 "nbformat": 4,
 "nbformat_minor": 2
}
